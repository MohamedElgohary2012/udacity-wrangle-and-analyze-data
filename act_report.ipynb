{
 "cells": [
  {
   "cell_type": "markdown",
   "metadata": {},
   "source": [
    "From [wrangle report](https://github.com/wrayz/hw-wrangle-and-analyze-data/blob/master/wrangle_report.ipynb) I wrangling three pieces of information related to the [@WeRateDogs](https://twitter.com/dog_rates) tweet into a single file. `twitter_archive_master.csv`, the following is my analysis"
   ]
  },
  {
   "cell_type": "markdown",
   "metadata": {},
   "source": [
    "Recent tweets"
   ]
  },
  {
   "cell_type": "markdown",
   "metadata": {},
   "source": [
    "![Cute](./images/dog.png)"
   ]
  },
  {
   "cell_type": "code",
   "execution_count": 2,
   "metadata": {},
   "outputs": [
    {
     "data": {
      "text/html": [
       "<div>\n",
       "<style scoped>\n",
       "    .dataframe tbody tr th:only-of-type {\n",
       "        vertical-align: middle;\n",
       "    }\n",
       "\n",
       "    .dataframe tbody tr th {\n",
       "        vertical-align: top;\n",
       "    }\n",
       "\n",
       "    .dataframe thead th {\n",
       "        text-align: right;\n",
       "    }\n",
       "</style>\n",
       "<table border=\"1\" class=\"dataframe\">\n",
       "  <thead>\n",
       "    <tr style=\"text-align: right;\">\n",
       "      <th></th>\n",
       "      <th>tweet_id</th>\n",
       "      <th>text</th>\n",
       "      <th>expanded_urls</th>\n",
       "      <th>name</th>\n",
       "      <th>favorite_count</th>\n",
       "      <th>lang</th>\n",
       "      <th>retweet_count</th>\n",
       "      <th>source</th>\n",
       "      <th>created_time</th>\n",
       "      <th>rating_ratio</th>\n",
       "      <th>stage</th>\n",
       "      <th>breed</th>\n",
       "    </tr>\n",
       "  </thead>\n",
       "  <tbody>\n",
       "    <tr>\n",
       "      <th>0</th>\n",
       "      <td>892177421306343426</td>\n",
       "      <td>This is Tilly. She's just checking pup on you....</td>\n",
       "      <td>https://twitter.com/dog_rates/status/892177421...</td>\n",
       "      <td>Tilly</td>\n",
       "      <td>32434</td>\n",
       "      <td>en</td>\n",
       "      <td>6079</td>\n",
       "      <td>iPhone</td>\n",
       "      <td>2017-08-01 00:17:27</td>\n",
       "      <td>1.3</td>\n",
       "      <td>None</td>\n",
       "      <td>Chihuahua</td>\n",
       "    </tr>\n",
       "    <tr>\n",
       "      <th>1</th>\n",
       "      <td>891815181378084864</td>\n",
       "      <td>This is Archie. He is a rare Norwegian Pouncin...</td>\n",
       "      <td>https://twitter.com/dog_rates/status/891815181...</td>\n",
       "      <td>Archie</td>\n",
       "      <td>24430</td>\n",
       "      <td>en</td>\n",
       "      <td>4023</td>\n",
       "      <td>iPhone</td>\n",
       "      <td>2017-07-31 00:18:03</td>\n",
       "      <td>1.2</td>\n",
       "      <td>None</td>\n",
       "      <td>Chihuahua</td>\n",
       "    </tr>\n",
       "    <tr>\n",
       "      <th>2</th>\n",
       "      <td>891689557279858688</td>\n",
       "      <td>This is Darla. She commenced a snooze mid meal...</td>\n",
       "      <td>https://twitter.com/dog_rates/status/891689557...</td>\n",
       "      <td>Darla</td>\n",
       "      <td>41088</td>\n",
       "      <td>en</td>\n",
       "      <td>8371</td>\n",
       "      <td>iPhone</td>\n",
       "      <td>2017-07-30 15:58:51</td>\n",
       "      <td>1.3</td>\n",
       "      <td>None</td>\n",
       "      <td>Labrador_retriever</td>\n",
       "    </tr>\n",
       "    <tr>\n",
       "      <th>3</th>\n",
       "      <td>891327558926688256</td>\n",
       "      <td>This is Franklin. He would like you to stop ca...</td>\n",
       "      <td>https://twitter.com/dog_rates/status/891327558...</td>\n",
       "      <td>Franklin</td>\n",
       "      <td>39282</td>\n",
       "      <td>en</td>\n",
       "      <td>9082</td>\n",
       "      <td>iPhone</td>\n",
       "      <td>2017-07-29 16:00:24</td>\n",
       "      <td>1.2</td>\n",
       "      <td>None</td>\n",
       "      <td>basset</td>\n",
       "    </tr>\n",
       "    <tr>\n",
       "      <th>4</th>\n",
       "      <td>891087950875897856</td>\n",
       "      <td>Here we have a majestic great white breaching ...</td>\n",
       "      <td>https://twitter.com/dog_rates/status/891087950...</td>\n",
       "      <td>None</td>\n",
       "      <td>19757</td>\n",
       "      <td>en</td>\n",
       "      <td>3008</td>\n",
       "      <td>iPhone</td>\n",
       "      <td>2017-07-29 00:08:17</td>\n",
       "      <td>1.3</td>\n",
       "      <td>None</td>\n",
       "      <td>Chesapeake_Bay_retriever</td>\n",
       "    </tr>\n",
       "  </tbody>\n",
       "</table>\n",
       "</div>"
      ],
      "text/plain": [
       "             tweet_id                                               text  \\\n",
       "0  892177421306343426  This is Tilly. She's just checking pup on you....   \n",
       "1  891815181378084864  This is Archie. He is a rare Norwegian Pouncin...   \n",
       "2  891689557279858688  This is Darla. She commenced a snooze mid meal...   \n",
       "3  891327558926688256  This is Franklin. He would like you to stop ca...   \n",
       "4  891087950875897856  Here we have a majestic great white breaching ...   \n",
       "\n",
       "                                       expanded_urls      name  \\\n",
       "0  https://twitter.com/dog_rates/status/892177421...     Tilly   \n",
       "1  https://twitter.com/dog_rates/status/891815181...    Archie   \n",
       "2  https://twitter.com/dog_rates/status/891689557...     Darla   \n",
       "3  https://twitter.com/dog_rates/status/891327558...  Franklin   \n",
       "4  https://twitter.com/dog_rates/status/891087950...      None   \n",
       "\n",
       "   favorite_count lang  retweet_count  source         created_time  \\\n",
       "0           32434   en           6079  iPhone  2017-08-01 00:17:27   \n",
       "1           24430   en           4023  iPhone  2017-07-31 00:18:03   \n",
       "2           41088   en           8371  iPhone  2017-07-30 15:58:51   \n",
       "3           39282   en           9082  iPhone  2017-07-29 16:00:24   \n",
       "4           19757   en           3008  iPhone  2017-07-29 00:08:17   \n",
       "\n",
       "   rating_ratio stage                     breed  \n",
       "0           1.3  None                 Chihuahua  \n",
       "1           1.2  None                 Chihuahua  \n",
       "2           1.3  None        Labrador_retriever  \n",
       "3           1.2  None                    basset  \n",
       "4           1.3  None  Chesapeake_Bay_retriever  "
      ]
     },
     "execution_count": 2,
     "metadata": {},
     "output_type": "execute_result"
    }
   ],
   "source": [
    "# Top five data\n",
    "import pandas as pd\n",
    "pd.read_csv('twitter_archive_master.csv').head()"
   ]
  },
  {
   "cell_type": "markdown",
   "metadata": {},
   "source": [
    "In this data, I am curious about two simple questions:\n",
    "\n",
    "**_Q1: Is @WeRateDogs' tweet evaluation the key to popular?_**\n",
    "\n",
    "**_Q2: If not, what is the reason for the tweet to let the public report or praise?_**"
   ]
  },
  {
   "cell_type": "markdown",
   "metadata": {},
   "source": [
    "First let's look at the data distribution of the @WeRateDogs rating ratio."
   ]
  },
  {
   "cell_type": "markdown",
   "metadata": {},
   "source": [
    "![Box](./images/box_ratingratio.png)"
   ]
  },
  {
   "cell_type": "markdown",
   "metadata": {},
   "source": [
    "From the box plot display, the @WeRateDogs score has no specific pattern, it is difficult to directly confirm that the score is the reason why the tweet received everyone's favorite; in addition, because there is no specific pattern for the score, we can't directly score the score to compare different dogs."
   ]
  },
  {
   "cell_type": "markdown",
   "metadata": {},
   "source": [
    "Obviously we have to go into the second question. Here I have a definition of popular. The more tweets I have, the more popular the favorite count or retweet count is.\n",
    "\n",
    "The following can be seen from the heat map. The favorite count and retweet count are positive correlations. Obviously everyone will like and share the favorite posts. So I will observe this on the basis of the favorite count and ask: \n",
    "\n",
    "**_Which feature will make the tweet get more favorite count?_**\n",
    "\n",
    "Also unfortunately, the heat map shows that @WeRateDog tweet's rating ratio has no strong relationship with favorite count and retweet count. And this result reinforces the speculation that began with the distribution of data from the @WeRateDog rating ratio.\n"
   ]
  },
  {
   "cell_type": "markdown",
   "metadata": {},
   "source": [
    "![HeatMap](./images/heatmap.png)"
   ]
  },
  {
   "cell_type": "markdown",
   "metadata": {},
   "source": [
    "We select breed, stages, created time, and favorite count for visual comparison.\n",
    "\n",
    "1. Breed\n",
    "\n",
    "    First, we get the number of different data in different breed, and then look at the number of favorites in different categories, and then calculate the correlation coefficient of the two sets of data, the result is up to $0.99$, which means that the number of favorite and tweets in breed is very high. Big relationship.\n",
    "\n",
    "    At the same time, we use the bar graph to show the number of favorites in different categories. It can be seen that the top 3 are Golden retriever, Labrador retriever, Pembroke, perhaps the current popular category, and there will be so many tweets and Favorites."
   ]
  },
  {
   "cell_type": "markdown",
   "metadata": {},
   "source": [
    "![Bar](./images/barh_breed.png)"
   ]
  },
  {
   "cell_type": "markdown",
   "metadata": {},
   "source": [
    "2. Stages of Dog\n",
    "\n",
    "    Does a different and even more diverse stage affect the favorite count?\n",
    "\n",
    "    The histogram shows that most of the favorite counts fall on 'None', which is an unrecognizable stage. The relationship between stage and favorite cannot be seen from the data."
   ]
  },
  {
   "cell_type": "markdown",
   "metadata": {},
   "source": [
    "![StageBar](./images/bar_stages.png)"
   ]
  },
  {
   "cell_type": "markdown",
   "metadata": {},
   "source": [
    "3. Created Time\n",
    "\n",
    "    We cut the time and count the favorite counts obtained every hour according to 24 hours. The line chart shows that during the specific time period, the favorite count is particularly high, obviously most users have a common time to go online and give favorite. Bingo！"
   ]
  },
  {
   "cell_type": "markdown",
   "metadata": {},
   "source": [
    "![Trend](./images/trend_time.png)"
   ]
  },
  {
   "cell_type": "markdown",
   "metadata": {},
   "source": [
    "## Conclusion\n",
    "\n",
    "From the data analysis, we know a few things\n",
    "1. @WeRateDogs scores do not have a certain standard, and it does not directly affect the user's preferences.\n",
    "2. Different dog breeds are not directly related to favorite counts, but because some breeds of dogs have more tweets, so there are more accumulated favorite counts.\n",
    "3. Whether the tweet can get more favorite counts, the data display is related to the general user's specific online time."
   ]
  }
 ],
 "metadata": {
  "kernelspec": {
   "display_name": "Python 3",
   "language": "python",
   "name": "python3"
  },
  "language_info": {
   "codemirror_mode": {
    "name": "ipython",
    "version": 3
   },
   "file_extension": ".py",
   "mimetype": "text/x-python",
   "name": "python",
   "nbconvert_exporter": "python",
   "pygments_lexer": "ipython3",
   "version": "3.7.2"
  }
 },
 "nbformat": 4,
 "nbformat_minor": 2
}
